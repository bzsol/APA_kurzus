{
 "cells": [
  {
   "cell_type": "markdown",
   "metadata": {},
   "source": [
    "# Algoritmusok és Programozás Alapjai második jegyzet\n",
    "\n",
    "Ez a jegyzet igyekszik elősegíteni a második ZH anyagait és szükséges feltételeit összeszedni **röviden**.\n",
    "Ehhez még mindig szükséges lesz a saját kidolgozás és feladatok megoldása és a rutin. Ehhez pedig szükséges valamilyen programozási nyelven elkezdeni programozni vagy az elméleti részt alaposan ismerni.\n",
    "Főleg a tömbökkel és az alprogramokkal kapcsolatban.\n",
    "\n",
    "Bármi hiba vagy kérdés esetén ezen az e-mailen lehet keresni: zsolt.berecz@mailbox.unideb.hu\n",
    "\n",
    "**Ez az anyag a 2. ZH anyagait dolgozza fel**"
   ]
  },
  {
   "cell_type": "markdown",
   "metadata": {},
   "source": [
    "## Tömbök\n",
    "\n",
    "A tömbök segítségével lehetőségünk adódik adatokat tárolni könnyen és egyszerűen a memóriában.\n",
    "Alapvetően a tömbök egy változónév alatt lévő adathalmaz reprezentáció.\n",
    "Ezeket az adatokat el lehet érni viszont teljesen más logika alapján mint a változóknál észrevehettük.\n",
    "Tömbök elérése és deklarálása\n",
    "\n",
    "Egy tömb értékeinek elérése index-ek segítségével lehetséges így például egy tömb értékei pl A[ ] = {1,2,3,4,5} Akkor az A[0] az 1 lesz. De miért 0? Az informatikában mindig 0 a kezdőérték indexelés során. (Kivéve a Matlab!)\n",
    "\n",
    "Nézzünk egy példát Python nyelven.\n"
   ]
  },
  {
   "cell_type": "code",
   "execution_count": 1,
   "metadata": {},
   "outputs": [
    {
     "name": "stdout",
     "output_type": "stream",
     "text": [
      "A 0. indexű helyen ez az érték található 1\n",
      "A 3. indexű helyen ez az érték található 4\n"
     ]
    }
   ],
   "source": [
    "#Tömb deklarálása\n",
    "A = [1,2,3,4,5,6,7,8,9,10]\n",
    "print(f\"A 0. indexű helyen ez az érték található {A[0]}\")\n",
    "print(f\"A 3. indexű helyen ez az érték található {A[3]}\")"
   ]
  },
  {
   "cell_type": "markdown",
   "metadata": {},
   "source": [
    "\n",
    "\n",
    "Hogyan lehetséges az összes értéket egy tömbben elérni,illetve kiíratni?\n",
    "\n",
    "Azért érzi az ember ezek a ciklusok csak hasznosak voltak az elmúlt órák folyamán!\n",
    "\n",
    "A ciklusok segítségével nemcsak balról jobbra hanem akár jobbról balra, visszafele is könnyen el tudjuk érni adatainkat.\n"
   ]
  },
  {
   "cell_type": "code",
   "execution_count": 2,
   "metadata": {},
   "outputs": [
    {
     "name": "stdout",
     "output_type": "stream",
     "text": [
      "1 2 3 4 5 6 7 8 9 10 \n",
      "10 9 8 7 6 5 4 3 2 1 "
     ]
    }
   ],
   "source": [
    "# Tömb és i változó deklarációja\n",
    "A = [1,2,3,4,5,6,7,8,9,10]\n",
    "i = 0\n",
    "\n",
    "\n",
    "# Tömb értékeinek kiírása\n",
    "while(i < len(A)): #do\n",
    "    print(A[i],end=\" \")\n",
    "    i = i + 1\n",
    "    \n",
    "\n",
    "print(\"\")\n",
    "\n",
    "# Tömb értékeinek kiírása visszafele\n",
    "i = len(A)-1 # len(A) esetén kereken 10 elemet kapunk!\n",
    "while(i >= 0): #do\n",
    "    print(A[i],end=\" \")\n",
    "    i = i - 1\n",
    "\n"
   ]
  },
  {
   "cell_type": "markdown",
   "metadata": {},
   "source": [
    "## Rendezések\n",
    "\n",
    "Sokszor megesik hogy szeretnénk rendezni sorban vagy valamilyen sorrendben a tömbünket. Erre az esetre több és több megoldás található.\n",
    "\n",
    "A kurzuson szerencsére csak az igazán szükséges algoritmusokat fogjuk megtekinteni.\n",
    "\n",
    "Az egyik legegyszerűbb megoldás erre a buborékrendezés:\n",
    "\n",
    "### Buborékrendezés\n",
    "\n",
    "https://www.youtube.com/watch?v=xli_FI7CuzA\n",
    "\n",
    "A rendezés óriási előnye hogy piszok egyszerű megérteni és elmagyarázni hogyan működik. Hátránya viszont az egyszerűség egy hátrány is. Mégpedig gyorsaságban... Még a régi Google CEO-ja is megkérdezte Obamát hogyan rendezne 1 millió integert. Obama erre annyit reagált hát lehetséges hogy nem a buborékrendezés a válasz.\n",
    "\n",
    "A kulcs ebben a rendezésben mint egy tánc során, kiválasztunk két elemet és megcseréljük őket. Addig cserélek amíg rendezett nem lesz a tömb.\n"
   ]
  },
  {
   "cell_type": "code",
   "execution_count": 3,
   "metadata": {},
   "outputs": [
    {
     "name": "stdout",
     "output_type": "stream",
     "text": [
      "The original array: \n",
      " [36, 3, 81, 47, 91, 44, 41, 65, 62, 40]\n",
      "The sorted array: \n",
      " [3, 36, 40, 41, 44, 47, 62, 65, 81, 91]\n"
     ]
    }
   ],
   "source": [
    "import random\n",
    "\n",
    "A = random.sample(range(1,100),10)\n",
    "\n",
    "print(f\"The original array: \\n {A}\")\n",
    "\n",
    "i = 0\n",
    "\n",
    "# First method\n",
    "while(i < len(A)-1):\n",
    "    j = 0\n",
    "    while(j < len(A)-i-1):\n",
    "        if(A[j] > A[j+1]):\n",
    "            temp = A[j]\n",
    "            A[j] = A[j+1]\n",
    "            A[j+1] = temp\n",
    "        j = j + 1\n",
    "    i = i + 1\n",
    "\n",
    "\n",
    "\n",
    "print(f\"The sorted array: \\n {A}\")"
   ]
  },
  {
   "cell_type": "code",
   "execution_count": 4,
   "metadata": {},
   "outputs": [
    {
     "name": "stdout",
     "output_type": "stream",
     "text": [
      "The original array: \n",
      " [89, 14, 51, 33, 9, 81, 40, 18, 99, 6]\n",
      "The sorted array: \n",
      " [6, 9, 14, 18, 33, 40, 51, 81, 89, 99]\n"
     ]
    }
   ],
   "source": [
    "import random\n",
    "\n",
    "A = random.sample(range(1,100),10)\n",
    "\n",
    "print(f\"The original array: \\n {A}\")\n",
    "\n",
    "\n",
    "\n",
    "#Second method\n",
    "\n",
    "\n",
    "while True:\n",
    "    swapped = 0\n",
    "    i = 0\n",
    "    while(i < len(A)-1):\n",
    "        if A[i] > A[i+1]:\n",
    "            temp = A[i]\n",
    "            A[i] = A[i+1]\n",
    "            A[i+1] = temp\n",
    "            swapped = 1\n",
    "        i = i + 1\n",
    "    if swapped == 0:\n",
    "        break\n",
    "\n",
    "\n",
    "print(f\"The sorted array: \\n {A}\")"
   ]
  },
  {
   "cell_type": "markdown",
   "metadata": {},
   "source": [
    "### Beszúrásos rendezés\n",
    "\n",
    "Gondolkodva az ember valahogy így rendezgetné el a tömbben található értékeket hogy mindig a kisebb elemeket rakja balra és jobbra a nagyobb elemeket, egy kiválasztott elemet pedig hasonlítok a többihez. Ez az algoritmus is arról híres hogy szimplán megérthető hogyan működik, viszont a futási ideje nagyobb adathalmazra viszont borzasztó eredményt produkálhat.\n",
    "\n",
    "https://www.youtube.com/watch?v=JU767SDMDvA\n"
   ]
  },
  {
   "cell_type": "code",
   "execution_count": 5,
   "metadata": {},
   "outputs": [
    {
     "name": "stdout",
     "output_type": "stream",
     "text": [
      "The original array: \n",
      " [51, 7, 13, 79, 17, 95, 85, 47, 62, 10]\n",
      "The sorted array: \n",
      " [7, 10, 13, 17, 47, 51, 62, 79, 85, 95]\n"
     ]
    }
   ],
   "source": [
    "import random\n",
    "\n",
    "A = random.sample(range(1,100),10)\n",
    "\n",
    "print(f\"The original array: \\n {A}\")\n",
    "\n",
    "i = 1\n",
    "j = 0\n",
    "\n",
    "while(i < len(A)):\n",
    "    temp = A[i]\n",
    "    j = i - 1\n",
    "    while(j >= 0 and A[j] > temp):\n",
    "        A[j+1] = A[j]\n",
    "        j = j - 1\n",
    "    A[j+1] = temp\n",
    "    i = i + 1\n",
    "\n",
    "\n",
    "print(f\"The sorted array: \\n {A}\")"
   ]
  },
  {
   "cell_type": "markdown",
   "metadata": {},
   "source": [
    "### Kiválasztásos rendezés\n",
    "\n",
    "Egyik lehetséges gondolat, mi lenne ha mindig a minimum érték alapján próbálom rendezni az egész tömböt. Valahogy így érdemes ezt az algoritmust is elképzelni. Mindig az adott minimumot keresem meg a tömb értékein és rendezem őket míg végül el nem \"fogy\" a lehetséges minimum értékek száma.\n",
    "\n",
    "https://www.youtube.com/watch?v=g-PGLbMth_g\n"
   ]
  },
  {
   "cell_type": "code",
   "execution_count": 6,
   "metadata": {},
   "outputs": [
    {
     "name": "stdout",
     "output_type": "stream",
     "text": [
      "The original array: \n",
      " [63, 36, 54, 40, 70, 98, 46, 91, 73, 27]\n",
      "The sorted array: \n",
      " [27, 36, 40, 46, 54, 63, 70, 73, 91, 98]\n"
     ]
    }
   ],
   "source": [
    "import random\n",
    "\n",
    "A = random.sample(range(1,100),10)\n",
    "\n",
    "print(f\"The original array: \\n {A}\")\n",
    "\n",
    "i = 0\n",
    "\n",
    "# O(n^2)\n",
    "while(i < len(A)-1):\n",
    "    min_index = i\n",
    "    j = i+1\n",
    "    while(j < len(A)):\n",
    "        if(A[j] < A[min_index]):\n",
    "            min_index = j\n",
    "        j = j + 1\n",
    "    if min_index != i:\n",
    "        temp = A[i]\n",
    "        A[i] = A[min_index]\n",
    "        A[min_index] = temp\n",
    "    i = i + 1  \n",
    "\n",
    "print(f\"The sorted array: \\n {A}\")"
   ]
  },
  {
   "cell_type": "markdown",
   "metadata": {},
   "source": [
    "## Keresések\n",
    "\n",
    "Most hogy szépen rendezgetni és variálni tudjuk a tömbök értékét, szükségessé válik hogy szeretnénk a tömbben lévő elemeket néha megkeresni illetve később felhasználni vagy csak tudni hol helyezkedik el.\n",
    "\n",
    "Ebben az esetben szükségesek a keresések. A tananyag során két féle módszert fogunk megnézni, a lineáris keresést és a bináris keresést.\n"
   ]
  },
  {
   "cell_type": "markdown",
   "metadata": {},
   "source": [
    "### Lineáris keresés\n",
    "\n",
    "Hogyan próbálnánk egy könyves polcon megkeresni az egyik imádott könyvünket a híres neves Rejtő Jenő - Piszkos Fred, a kapitány?\n",
    "\n",
    "Elkezdünk a könyvespolcon lineárisan tehát az elejétől a végéig keresni hogy merre is lehet az a könyv. Végül sikerült megtalálni a 8. indexen és ez a felirat fogad minket:\n",
    "\n",
    "\"Az nevet utoljára, aki először üt.\"\n"
   ]
  },
  {
   "cell_type": "code",
   "execution_count": 7,
   "metadata": {},
   "outputs": [
    {
     "name": "stdout",
     "output_type": "stream",
     "text": [
      "The index is 7, the target value was -> 8\n"
     ]
    }
   ],
   "source": [
    "\n",
    "\n",
    "A = [1,2,3,4,5,6,7,8,9,10]\n",
    "target = 8\n",
    "i = 0\n",
    "# Runtime O(N)\n",
    "while(i < len(A)):\n",
    "    if A[i] == target:\n",
    "        print(f\"The index is {i}, the target value was -> {target}\")\n",
    "        break\n",
    "    i = i + 1\n",
    "\n"
   ]
  },
  {
   "cell_type": "markdown",
   "metadata": {},
   "source": [
    "## Bináris keresés\n",
    "\n",
    "Ha már a könyvek rejtelmeibe zártuk magunkat, a bináris keresés is hasonlóan egy könyvben lévő kereséshez tudjuk hasonlítani. Ha keresünk egy adott kifejezést egy szótárban de most fejből nem tudom melyik oldalon lehet, próbáljuk meg a könyv közepétől keresni és mindig így haladok a keresett oldal fele. Ha nagyobb a keresett érték mondjuk ABC esetén én a P körül szeretnék keresni akkor igyekszem a minimum oldal értéket növelni és a maximum oldal számát csökkenteni, végül az értékem egyszer a keresett oldal lesz.\n",
    "\n",
    "Ez az algoritmus egy O(log n) gyorsaságú, amit annyit jelent hogy eszméletlen gyors és igazán sokszor használt keresés. Olyan cégek mint a Google, Microsoft és az Amazon szeretik a gyakornokoknak ilyen feladatokat adni, illetve ők is előszeretettel implementálják ezt a megoldást.\n",
    "\n",
    "**Fontos hogy csak rendezett tömbök esetén működik az algoritmus!**\n",
    "\n",
    "https://www.youtube.com/watch?v=fDKIpRe8GW4\n"
   ]
  },
  {
   "cell_type": "code",
   "execution_count": 8,
   "metadata": {},
   "outputs": [
    {
     "name": "stdout",
     "output_type": "stream",
     "text": [
      "The index is 7, the target value was -> 8\n"
     ]
    }
   ],
   "source": [
    "A = [1,2,3,4,5,6,7,8,9,10]\n",
    "target = 8\n",
    "mid = 0\n",
    "max = A[len(A)-1]\n",
    "min = 0\n",
    "while(max >= min):\n",
    "    mid = int((min + max) / 2)\n",
    "    if(A[mid] == target):\n",
    "        print(f\"The index is {mid}, the target value was -> {target}\")\n",
    "        break\n",
    "    if(A[mid] > target):\n",
    "        max = mid + 1\n",
    "    if(A[mid] < target):\n",
    "        min = mid - 1"
   ]
  },
  {
   "cell_type": "markdown",
   "metadata": {},
   "source": [
    "**Gyakorlás:**\n",
    "\n",
    "Most hogy láthattuk és átolvastad az algoritmusokat és remélhetőleg a videókat is megtekintetted-\n",
    "\n",
    "Próbáld az alábbi algoritmusokat C nyelven átírni és használni őket."
   ]
  },
  {
   "cell_type": "markdown",
   "metadata": {},
   "source": [
    "## Eljárások és Függvények\n",
    "\n",
    "#### Mi az eljárás? -> Function withour return\n",
    "Eljárás: tevékenységsorozat valami megtételéhez a kód egy adott pontján (nincs visszatérési érték)\n",
    "#### Mi a függvény? -> Function\n",
    "\n",
    "Függvény: utasítássorozat egy érték (a visszatérési érték) előállítására valahol a kódban.\n",
    "\n",
    "\n",
    "\n",
    "### Lineáris keresés függvény megvalósítással:\n"
   ]
  },
  {
   "cell_type": "code",
   "execution_count": 23,
   "metadata": {},
   "outputs": [
    {
     "name": "stdout",
     "output_type": "stream",
     "text": [
      "The number we try to find is 6 and found at 5. index\n"
     ]
    }
   ],
   "source": [
    "def linear_search(A: [int],target: int) -> int:\n",
    "    i = 0\n",
    "    while i < len(A):\n",
    "        if target == A[i]:\n",
    "            return i\n",
    "        i = i + 1\n",
    "\n",
    "A = [1,2,3,4,5,6,7,8,9,10]\n",
    "target = 6\n",
    "# Látható a paraméterek át lesznek dobva és a kiszámolt érték az ans változónak lesz átadva\n",
    "ans = linear_search(A,target)\n",
    "print(f\"The number we try to find is {target} and found at {ans}. index\")"
   ]
  },
  {
   "cell_type": "markdown",
   "metadata": {},
   "source": [
    "### Kör területe függvénnyel:\n"
   ]
  },
  {
   "cell_type": "code",
   "execution_count": 24,
   "metadata": {},
   "outputs": [
    {
     "name": "stdout",
     "output_type": "stream",
     "text": [
      "The area of the circle is: 1963.4954084936207\n"
     ]
    }
   ],
   "source": [
    "def area_of_the_circle(r: int) -> float:\n",
    "    return r*r * 3.14159265358979323846\n",
    "\n",
    "r = 25\n",
    "ans = area_of_the_circle(r)\n",
    "print(f\"The area of the circle is: {ans}\")"
   ]
  },
  {
   "cell_type": "markdown",
   "metadata": {},
   "source": [
    "### Tömb elemeinek kiírása eljárással:\n"
   ]
  },
  {
   "cell_type": "code",
   "execution_count": 27,
   "metadata": {},
   "outputs": [
    {
     "name": "stdout",
     "output_type": "stream",
     "text": [
      "1 2 3 4 5 6 7 8 9 10 "
     ]
    }
   ],
   "source": [
    "def print_array(A) -> None:\n",
    "    i = 0\n",
    "    while i < len(A):\n",
    "        print(A[i],end=' ')\n",
    "        i = i + 1\n",
    "    \n",
    "\n",
    "A = [1,2,3,4,5,6,7,8,9,10]\n",
    "print_array(A)"
   ]
  },
  {
   "cell_type": "markdown",
   "metadata": {},
   "source": [
    "## Rekurzió:\n",
    "\n",
    "Amikor egy alprogram saját magát hívja meg.\n",
    "\n",
    "### Faktoriális meghatározása rekurzió segítségével:"
   ]
  },
  {
   "cell_type": "code",
   "execution_count": 31,
   "metadata": {},
   "outputs": [
    {
     "name": "stdout",
     "output_type": "stream",
     "text": [
      "5! == 120\n",
      "10! == 3628800\n"
     ]
    }
   ],
   "source": [
    "def factorial(n: int) -> int:\n",
    "    if n == 1:\n",
    "        return 1\n",
    "    else:\n",
    "        return n * factorial(n - 1)\n",
    "\n",
    "n = 5\n",
    "print(f\"{n}! == {factorial(n)}\")\n",
    "n = 10\n",
    "print(f\"{n}! == {factorial(n)}\")"
   ]
  },
  {
   "cell_type": "markdown",
   "metadata": {},
   "source": [
    "### Bináris keresés rekurzióval:"
   ]
  },
  {
   "cell_type": "code",
   "execution_count": 56,
   "metadata": {},
   "outputs": [
    {
     "name": "stdout",
     "output_type": "stream",
     "text": [
      "The target is 6 and the index that was found is 5\n"
     ]
    }
   ],
   "source": [
    "def binary_search_recursive(A,maximum,minimum,target) -> int:\n",
    "    if(maximum >= minimum):\n",
    "        mid = (maximum + minimum) // 2\n",
    "        if A[mid] == target:\n",
    "            return mid\n",
    "        if A[mid] < target:\n",
    "            return binary_search_recursive(A,maximum,mid + 1,target);\n",
    "        if A[mid] > target:\n",
    "            return binary_search_recursive(A,mid - 1,minimum,target);\n",
    "    return -1\n",
    "\n",
    "\n",
    "\n",
    "A = [1,2,3,4,5,6,7,8,9,10]\n",
    "target = 6\n",
    "ans = binary_search_recursive(A,len(A)-1,0,target)\n",
    "print(f\"The target is {target} and the index that was found is {ans}\")"
   ]
  }
 ],
 "metadata": {
  "kernelspec": {
   "display_name": "Python 3",
   "language": "python",
   "name": "python3"
  },
  "language_info": {
   "codemirror_mode": {
    "name": "ipython",
    "version": 3
   },
   "file_extension": ".py",
   "mimetype": "text/x-python",
   "name": "python",
   "nbconvert_exporter": "python",
   "pygments_lexer": "ipython3",
   "version": "3.6.5"
  }
 },
 "nbformat": 4,
 "nbformat_minor": 2
}
